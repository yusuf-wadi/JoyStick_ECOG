{
 "cells": [
  {
   "cell_type": "markdown",
   "metadata": {},
   "source": [
    "# In this notebook we will be trying the transformer architecture\n",
    "This choice is motivated by the fact that the transformer excels at seqtoseq, and is able to capture dependencies spatially and temporally. I hypothesize that this is a good fit for the task since ECOG data is very complex and has dependencies in both time and space."
   ]
  },
  {
   "cell_type": "markdown",
   "metadata": {},
   "source": [
    "## Imports"
   ]
  },
  {
   "cell_type": "code",
   "execution_count": 1,
   "metadata": {},
   "outputs": [],
   "source": [
    "import torch\n",
    "import torch.nn as nn\n",
    "import torch.nn.functional as F\n",
    "import torch.optim as optim\n",
    "import numpy as np\n",
    "from sklearn.preprocessing import StandardScaler\n",
    "import matplotlib.pyplot as plt\n",
    "from sklearn.decomposition import FastICA\n",
    "from scipy.stats import kurtosis\n",
    "from sklearn.decomposition import PCA\n",
    "from torch.optim.lr_scheduler import StepLR\n",
    "from torch.utils.data import DataLoader, TensorDataset\n",
    "import math\n",
    "from torch.cuda.amp import autocast, GradScaler\n",
    "from torch.utils.checkpoint import checkpoint\n",
    "import matplotlib.pyplot as plt\n",
    "\n"
   ]
  },
  {
   "cell_type": "markdown",
   "metadata": {},
   "source": [
    "## Data Processing"
   ]
  },
  {
   "cell_type": "code",
   "execution_count": 2,
   "metadata": {},
   "outputs": [],
   "source": [
    "def calculate_vectors(coords, resolution):\n",
    "    \"\"\"\n",
    "    Calculate the average vectors of x and y magnitudes given a resolution.\n",
    "\n",
    "    Parameters:\n",
    "    coords (list of tuples): An array of (x, y) coordinates.\n",
    "    resolution (int): The resolution number.\n",
    "\n",
    "    Returns:\n",
    "    list of tuples: An array of vectors of x and y magnitudes.\n",
    "    \"\"\"\n",
    "    if resolution <= 0:\n",
    "        raise ValueError(\"Resolution must be a positive integer.\")\n",
    "    \n",
    "    n = len(coords)\n",
    "    if resolution > n:\n",
    "        raise ValueError(\"Resolution cannot be greater than the length of the coordinates array.\")\n",
    "    \n",
    "    # Calculate the segment length\n",
    "    segment_length = n // resolution\n",
    "    \n",
    "    vectors = []\n",
    "    \n",
    "    for i in range(0, n, segment_length):\n",
    "        segment = coords[i:i + segment_length]\n",
    "        if len(segment) < segment_length:\n",
    "            break\n",
    "        \n",
    "        # Calculate the average change in x and y\n",
    "        delta_x = np.mean([segment[j+1][0] - segment[j][0] for j in range(len(segment) - 1)])\n",
    "        delta_y = np.mean([segment[j+1][1] - segment[j][1] for j in range(len(segment) - 1)])\n",
    "        \n",
    "        vectors.append((delta_x, delta_y))\n",
    "    \n",
    "    return vectors"
   ]
  },
  {
   "cell_type": "code",
   "execution_count": 3,
   "metadata": {},
   "outputs": [],
   "source": [
    "def vectorize_joystick_readings(x, y, resolution):\n",
    "     return calculate_vectors(list(zip(x, y)), resolution)\n",
    "\n",
    "    "
   ]
  },
  {
   "cell_type": "code",
   "execution_count": 4,
   "metadata": {},
   "outputs": [],
   "source": [
    "def ica(X, n_components):\n",
    "    ica = FastICA(n_components=n_components)\n",
    "    S_ = ica.fit_transform(X)  # Reconstruct signals\n",
    "    A_ = ica.mixing_  # Get estimated mixing matrix\n",
    "    return S_, A_"
   ]
  },
  {
   "cell_type": "code",
   "execution_count": 5,
   "metadata": {},
   "outputs": [],
   "source": [
    "def normalize_data(d1):\n",
    "    scaler = StandardScaler()\n",
    "    d1 = scaler.fit_transform(d1)\n",
    "    return d1\n",
    "\n",
    "def train_test_split(X, y, train_size):\n",
    "    train_size = int(train_size * len(X))\n",
    "    return X[:train_size], X[train_size:], y[:train_size], y[train_size:]\n",
    "\n",
    "def chunk_data(data, length):\n",
    "    chunk_size = length\n",
    "    return [data[i:i+chunk_size] for i in range(0, len(data), len(data)//chunk_size) if i+chunk_size <= len(data)]\n",
    "\n",
    "        "
   ]
  },
  {
   "cell_type": "code",
   "execution_count": 6,
   "metadata": {},
   "outputs": [],
   "source": [
    "def load_process_joystick_data():\n",
    "    # Load data from file\n",
    "    fname = './data/joystick_track.npz'\n",
    "    alldat = np.load(fname, allow_pickle=True)['dat']\n",
    "    dat = alldat[0]\n",
    "    patient_idx = 1\n",
    "    d = dat[patient_idx]\n",
    "    \n",
    "    # Extract ECoG data and joystick vectors\n",
    "    ecog_data = d['V']\n",
    "    targetX = d['targetX']\n",
    "    targetY = d['targetY']\n",
    "    \n",
    "    print(ecog_data.shape, targetX.shape, targetY.shape )\n",
    "    # Normalize and PCA\n",
    "    ecog_data = normalize_data(ecog_data)\n",
    "    ecog_data = PCA(n_components=0.95).fit_transform(ecog_data)\n",
    "    print(ecog_data.shape, targetX.shape, targetY.shape )\n",
    "    # Set resolution and vectorize joystick readings\n",
    "    resolution = 700\n",
    "    targetX, targetY = normalize_data(targetX), normalize_data(targetY)\n",
    "    vectors = np.array(vectorize_joystick_readings(targetX, targetY, resolution))\n",
    "    print(ecog_data.shape, vectors.shape)\n",
    "    # Chunk ECoG data based on resolution\n",
    "    chunked_ecog_data = chunk_data(ecog_data, len(vectors))\n",
    "    # Remove data points with zero vectors\n",
    "    ecog_data, vectors = zip(*[(x, y) for x, y in zip(ecog_data, vectors) if not np.array_equal(y, [0, 0])])\n",
    "    print(len(ecog_data), len(ecog_data[0]), len(vectors))\n",
    "    print(len(chunked_ecog_data), len(chunked_ecog_data[0]), len(chunked_ecog_data[0][0]))\n",
    "    # Split data into training and testing sets\n",
    "    X_train, X_test, y_train, y_test = train_test_split(chunked_ecog_data, vectors, train_size=0.8)\n",
    "    \n",
    "    # Convert data back to numpy arrays\n",
    "    X_train, y_train = np.array(X_train), np.array(y_train)\n",
    "    X_test, y_test = np.array(X_test), np.array(y_test)\n",
    "    \n",
    "    return X_train, X_test, y_train, y_test\n"
   ]
  },
  {
   "cell_type": "code",
   "execution_count": 7,
   "metadata": {},
   "outputs": [
    {
     "name": "stdout",
     "output_type": "stream",
     "text": [
      "(248640, 64) (248640, 1) (248640, 1)\n",
      "(248640, 28) (248640, 1) (248640, 1)\n",
      "(248640, 28) (700, 2)\n",
      "679 28 679\n",
      "699 700 28\n",
      "(559, 700, 28) (559, 2)\n"
     ]
    }
   ],
   "source": [
    "X_train, X_test, y_train, y_test = load_process_joystick_data()\n",
    "min_len = min(len(X_test), len(y_test))\n",
    "X_test = X_test[:min_len]\n",
    "y_test = y_test[:min_len]\n",
    "# reshape input to be [time steps, batch size, features]\n",
    "\n",
    "print(X_train.shape, y_train.shape)"
   ]
  },
  {
   "cell_type": "markdown",
   "metadata": {},
   "source": [
    "## \n"
   ]
  },
  {
   "cell_type": "markdown",
   "metadata": {},
   "source": [
    "## Data Augmentation"
   ]
  },
  {
   "cell_type": "markdown",
   "metadata": {},
   "source": [
    "## Transfromers: robots in disguise"
   ]
  },
  {
   "cell_type": "code",
   "execution_count": 8,
   "metadata": {},
   "outputs": [
    {
     "name": "stdout",
     "output_type": "stream",
     "text": [
      "True\n"
     ]
    }
   ],
   "source": [
    "print(torch.cuda.is_available())\n",
    "torch.set_default_device('cuda') if torch.cuda.is_available() else torch.set_default_device('cpu')\n"
   ]
  },
  {
   "cell_type": "code",
   "execution_count": 9,
   "metadata": {},
   "outputs": [],
   "source": [
    "# Convert data to tensors\n",
    "X_train = torch.tensor(X_train, dtype=torch.float32, requires_grad=True)\n",
    "X_test = torch.tensor(X_test, dtype=torch.float32, requires_grad=True)\n",
    "y_train = torch.tensor(y_train, dtype=torch.float32)\n",
    "y_test = torch.tensor(y_test, dtype=torch.float32)"
   ]
  },
  {
   "cell_type": "code",
   "execution_count": 10,
   "metadata": {},
   "outputs": [
    {
     "name": "stdout",
     "output_type": "stream",
     "text": [
      "torch.Size([559, 700, 28]) torch.Size([120, 700, 28]) torch.Size([559, 2]) torch.Size([120, 2])\n",
      "tensor([[[-3.5636e+00, -2.2142e-01,  3.5455e-01,  ..., -4.0250e-01,\n",
      "           3.7540e-01, -4.1878e-01],\n",
      "         [-4.2145e+00, -2.3734e-01,  3.7031e-01,  ..., -2.9681e-01,\n",
      "           3.7048e-01, -3.8401e-01],\n",
      "         [-4.5517e+00, -2.5918e-01,  3.8189e-01,  ..., -1.7190e-01,\n",
      "           3.6903e-01, -3.3763e-01],\n",
      "         ...,\n",
      "         [ 6.4868e+00,  1.6992e+00, -2.0743e+00,  ...,  5.2482e-01,\n",
      "          -1.9219e-01, -2.8105e-01],\n",
      "         [ 6.2328e+00,  1.7402e+00, -2.0340e+00,  ...,  5.7298e-01,\n",
      "          -2.0215e-01, -3.0032e-01],\n",
      "         [ 6.2450e+00,  1.7968e+00, -1.9920e+00,  ...,  6.2103e-01,\n",
      "          -2.0591e-01, -3.0314e-01]],\n",
      "\n",
      "        [[-3.5565e+00, -4.3673e-01,  4.1906e-01,  ...,  4.6836e-02,\n",
      "          -7.1411e-02,  2.5605e-01],\n",
      "         [-2.9171e+00, -3.2429e-01,  3.5420e-01,  ...,  4.7743e-02,\n",
      "          -1.0004e-01,  2.7177e-01],\n",
      "         [-2.2750e+00, -2.2674e-01,  2.8591e-01,  ...,  3.9488e-02,\n",
      "          -1.1557e-01,  2.9023e-01],\n",
      "         ...,\n",
      "         [-8.1919e+00,  2.2611e+00, -8.7913e-02,  ...,  8.3881e-02,\n",
      "           3.3436e-02, -1.5160e-01],\n",
      "         [-7.9328e+00,  2.2634e+00, -1.5097e-01,  ...,  1.0792e-01,\n",
      "          -9.0515e-04, -1.2958e-01],\n",
      "         [-8.1317e+00,  2.2455e+00, -2.0338e-01,  ...,  1.2999e-01,\n",
      "          -2.8658e-02, -1.2399e-01]],\n",
      "\n",
      "        [[ 4.5927e+00,  2.1069e+00, -2.0275e+00,  ...,  6.8268e-01,\n",
      "          -2.4303e-01, -3.0857e-02],\n",
      "         [ 4.0727e+00,  2.0947e+00, -2.0418e+00,  ...,  6.7088e-01,\n",
      "          -2.2068e-01, -3.4908e-02],\n",
      "         [ 3.2212e+00,  2.0746e+00, -2.0460e+00,  ...,  6.6235e-01,\n",
      "          -1.8689e-01, -4.5294e-02],\n",
      "         ...,\n",
      "         [ 8.6765e-01,  3.2263e+00,  2.4916e+00,  ...,  6.3032e-01,\n",
      "           9.0620e-01,  4.5329e-01],\n",
      "         [ 5.5706e-01,  3.1985e+00,  2.4542e+00,  ...,  6.6576e-01,\n",
      "           9.1491e-01,  4.2369e-01],\n",
      "         [ 6.0026e-01,  3.2160e+00,  2.3966e+00,  ...,  6.8075e-01,\n",
      "           9.1655e-01,  3.8583e-01]],\n",
      "\n",
      "        ...,\n",
      "\n",
      "        [[-2.4526e+00, -4.9559e-01,  5.7188e-01,  ..., -2.8210e-01,\n",
      "          -1.1825e-01,  1.0276e-01],\n",
      "         [-2.4661e+00, -4.1688e-01,  5.9906e-01,  ..., -2.2449e-01,\n",
      "          -1.4074e-01,  8.5657e-02],\n",
      "         [-2.2135e+00, -3.8908e-01,  6.2213e-01,  ..., -2.1468e-01,\n",
      "          -1.4543e-01,  7.8639e-02],\n",
      "         ...,\n",
      "         [ 1.0593e+00,  1.4805e-01,  1.1763e+00,  ...,  3.2582e-01,\n",
      "           1.9662e-01, -1.7005e-01],\n",
      "         [ 1.5309e+00,  2.8464e-01,  1.2454e+00,  ...,  3.5524e-01,\n",
      "           1.5091e-01, -1.6824e-01],\n",
      "         [ 2.0146e+00,  2.7610e-01,  1.3344e+00,  ...,  3.6980e-01,\n",
      "           1.0034e-01, -2.0764e-01]],\n",
      "\n",
      "        [[-3.2386e+00,  2.2897e+00,  4.0329e-01,  ...,  9.0068e-02,\n",
      "           3.1288e-01, -1.7265e-01],\n",
      "         [-3.5712e+00,  2.1773e+00,  3.8234e-01,  ...,  1.2687e-01,\n",
      "           3.0366e-01, -1.9239e-01],\n",
      "         [-3.8136e+00,  2.1366e+00,  3.5033e-01,  ...,  2.0125e-01,\n",
      "           2.8217e-01, -2.0910e-01],\n",
      "         ...,\n",
      "         [-4.2710e+00, -2.4683e-01,  2.6999e-01,  ..., -4.4084e-01,\n",
      "          -5.6984e-01,  4.0109e-01],\n",
      "         [-4.4607e+00, -3.0995e-01,  2.4516e-01,  ..., -4.6207e-01,\n",
      "          -5.5532e-01,  3.4892e-01],\n",
      "         [-4.6675e+00, -2.7475e-01,  1.8767e-01,  ..., -4.4712e-01,\n",
      "          -5.5150e-01,  3.1155e-01]],\n",
      "\n",
      "        [[ 3.2530e+00,  1.8002e-01,  2.4690e+00,  ...,  5.7238e-01,\n",
      "          -3.4112e-01, -3.2738e-01],\n",
      "         [ 3.4571e+00,  2.4562e-01,  2.5161e+00,  ...,  6.1124e-01,\n",
      "          -3.9225e-01, -3.3808e-01],\n",
      "         [ 3.7832e+00,  2.6237e-01,  2.5713e+00,  ...,  6.3137e-01,\n",
      "          -4.3854e-01, -3.4606e-01],\n",
      "         ...,\n",
      "         [-6.7627e+00, -8.3022e-01,  2.0429e-01,  ...,  1.7756e-01,\n",
      "          -4.1441e-01, -4.8213e-01],\n",
      "         [-6.3488e+00, -7.0491e-01,  1.6333e-01,  ...,  2.0893e-01,\n",
      "          -4.5050e-01, -5.0064e-01],\n",
      "         [-5.9837e+00, -7.4077e-01,  2.2094e-01,  ...,  2.0694e-01,\n",
      "          -4.4689e-01, -5.4824e-01]]], device='cuda:0', requires_grad=True) tensor([[ 0.0077,  0.0007],\n",
      "        [-0.0005,  0.0012],\n",
      "        [-0.0009,  0.0009],\n",
      "        ...,\n",
      "        [ 0.0008, -0.0012],\n",
      "        [ 0.0011, -0.0008],\n",
      "        [ 0.0014, -0.0004]], device='cuda:0')\n"
     ]
    }
   ],
   "source": [
    "#print all shapes\n",
    "print(X_train.shape, X_test.shape, y_train.shape, y_test.shape)\n",
    "print(X_train, y_train)"
   ]
  },
  {
   "cell_type": "code",
   "execution_count": 11,
   "metadata": {},
   "outputs": [],
   "source": [
    "class PositionalEncoding(nn.Module):\n",
    "    def __init__(self, d_model, max_len=6000):\n",
    "        super(PositionalEncoding, self).__init__()\n",
    "        self.encoding = torch.zeros(max_len, d_model)\n",
    "        position = torch.arange(0, max_len, dtype=torch.float).unsqueeze(1)\n",
    "        div_term = torch.exp(torch.arange(0, d_model, 2).float() * (-math.log(10000.0) / d_model))\n",
    "        self.encoding[:, 0::2] = torch.sin(position * div_term)\n",
    "        self.encoding[:, 1::2] = torch.cos(position * div_term)\n",
    "        self.encoding = self.encoding.unsqueeze(0)\n",
    "\n",
    "    def forward(self, x):\n",
    "        return x + self.encoding[:, :x.size(1), :]\n",
    "\n",
    "class ECoGTransformerEncoder(nn.Module):\n",
    "    def __init__(self, input_dim, model_dim, num_heads, num_layers, output_dim, dropout_rate=0.1):\n",
    "        super(ECoGTransformerEncoder, self).__init__()\n",
    "        self.embedding = nn.Linear(input_dim, model_dim)\n",
    "        self.pos_encoder = PositionalEncoding(model_dim)\n",
    "        encoder_layers = nn.TransformerEncoderLayer(d_model=model_dim, nhead=num_heads, dropout=dropout_rate)\n",
    "        self.transformer_encoder = nn.TransformerEncoder(encoder_layers, num_layers)\n",
    "        self.fc = nn.Linear(model_dim, output_dim)\n",
    "    \n",
    "    def forward(self, x):\n",
    "        x = self.embedding(x)\n",
    "        x = self.pos_encoder(x)\n",
    "        x = x.permute(1, 0, 2)\n",
    "        x = checkpoint(self.transformer_encoder, x)\n",
    "        x = x.permute(1, 0, 2)\n",
    "        x = self.fc(x[:, -1, :])\n",
    "        return x\n"
   ]
  },
  {
   "cell_type": "code",
   "execution_count": 12,
   "metadata": {},
   "outputs": [],
   "source": [
    "# new loss\n",
    "class ScaledMSELoss(nn.Module):\n",
    "    def __init__(self, scale_factor):\n",
    "        super(ScaledMSELoss, self).__init__()\n",
    "        self.scale_factor = scale_factor\n",
    "        self.mse_loss = nn.MSELoss()\n",
    "\n",
    "    def forward(self, input, target):\n",
    "        return self.mse_loss(input, target) * self.scale_factor\n",
    "\n",
    "# Example usage\n",
    "scale_factor = 1000  # Adjust the scale factor as needed"
   ]
  },
  {
   "cell_type": "code",
   "execution_count": 13,
   "metadata": {},
   "outputs": [
    {
     "name": "stderr",
     "output_type": "stream",
     "text": [
      "c:\\Users\\thewa\\miniconda3\\Lib\\site-packages\\torch\\nn\\modules\\transformer.py:306: UserWarning: enable_nested_tensor is True, but self.use_nested_tensor is False because encoder_layer.self_attn.batch_first was not True(use batch_first for better inference performance)\n",
      "  warnings.warn(f\"enable_nested_tensor is True, but self.use_nested_tensor is False because {why_not_sparsity_fast_path}\")\n"
     ]
    }
   ],
   "source": [
    "# Example hyperparameters\n",
    "input_dim = X_train.shape[-1]\n",
    "model_dim = 512\n",
    "num_heads = 16\n",
    "num_layers = 8\n",
    "output_dim = 2 \n",
    "dropout_rate = 0.3670812456459453\n",
    "learning_rate = 1e-4\n",
    "weight_decay = 1e-5\n",
    "\n",
    "# Initialize the model\n",
    "model = ECoGTransformerEncoder(input_dim, model_dim, num_heads, num_layers, output_dim)\n",
    "# Ensure model parameters require gradients\n",
    "for param in model.parameters():\n",
    "    param.requires_grad = True\n",
    "# Apply weight initialization\n",
    "def init_weights(m):\n",
    "    if isinstance(m, nn.Linear):\n",
    "        nn.init.xavier_uniform_(m.weight)\n",
    "        if m.bias is not None:\n",
    "            nn.init.zeros_(m.bias)\n",
    "\n",
    "model.apply(init_weights)\n",
    "\n",
    "# Training loop with mixed precision and gradient checkpointing\n",
    "scaler = GradScaler()\n",
    "criterion = ScaledMSELoss(scale_factor=scale_factor)\n",
    "\n",
    "optimizer = torch.optim.Adam(model.parameters(), lr=learning_rate, weight_decay=weight_decay)\n",
    "num_epochs = 1000\n",
    "scheduler = StepLR(optimizer, step_size=num_epochs//3, gamma=0.1)\n",
    "\n"
   ]
  },
  {
   "cell_type": "markdown",
   "metadata": {},
   "source": [
    "'model_dim': 128, 'num_heads': 8, 'num_layers': 4, 'dropout_rate': 0.3670812456459453, 'learning_rate': 0.0006976310761919828"
   ]
  },
  {
   "cell_type": "code",
   "execution_count": 14,
   "metadata": {},
   "outputs": [],
   "source": [
    "# real data\n",
    "\n",
    "input_tensor = X_train\n",
    "target_tensor = y_train\n",
    "dataset = TensorDataset(input_tensor, target_tensor)\n",
    "generator = torch.Generator(device='cuda')\n",
    "dataloader = DataLoader(dataset, batch_size=16, shuffle=True, generator=generator)"
   ]
  },
  {
   "cell_type": "code",
   "execution_count": 15,
   "metadata": {},
   "outputs": [
    {
     "name": "stdout",
     "output_type": "stream",
     "text": [
      "Input mean: 0.0007466294919140637, Input std: 1.4338657855987549\n",
      "Target mean: -4.670707483001024e-07, Target std: 0.0010870033875107765\n"
     ]
    }
   ],
   "source": [
    "print(f\"Input mean: {input_tensor.mean()}, Input std: {input_tensor.std()}\")\n",
    "print(f\"Target mean: {target_tensor.mean()}, Target std: {target_tensor.std()}\")\n"
   ]
  },
  {
   "cell_type": "code",
   "execution_count": 16,
   "metadata": {},
   "outputs": [
    {
     "name": "stdout",
     "output_type": "stream",
     "text": [
      "torch.Size([559, 700, 28]) torch.Size([559, 2])\n"
     ]
    }
   ],
   "source": [
    "print(X_train.shape, y_train.shape)\n",
    "train = False\n",
    "losses = []\n",
    "# Early stopping parameters\n",
    "patience = 20\n",
    "best_loss = float('inf')\n",
    "epochs_no_improve = 0\n",
    "if train:\n",
    "    model.train()\n",
    "    for epoch in range(num_epochs):\n",
    "        for data, target in dataloader:\n",
    "            optimizer.zero_grad()\n",
    "            with autocast():\n",
    "                output = model(data)\n",
    "                loss = criterion(output, target)\n",
    "                losses.append(loss.item())\n",
    "            scaler.scale(loss).backward()\n",
    "            torch.nn.utils.clip_grad_norm_(model.parameters(), max_norm=1.0)  # Gradient clipping\n",
    "            scaler.step(optimizer)\n",
    "            scaler.update()\n",
    "            #scheduler.step()\n",
    "         # Validation step\n",
    "        model.eval()\n",
    "        val_loss = 0\n",
    "        with torch.no_grad():\n",
    "            for data, target in dataloader:\n",
    "                with autocast():\n",
    "                    output = model(data)\n",
    "                    loss = criterion(output, target)\n",
    "                    val_loss += loss.item()\n",
    "        val_loss /= len(dataloader)\n",
    "\n",
    "        print(f'Epoch {epoch+1}/{num_epochs}, Validation Loss: {val_loss}')\n",
    "        if epoch%10 == 0:\n",
    "            # loss direction as a magnitude of the last 10 losses\n",
    "            print(f'Loss direction: {np.mean(losses[-10:]) - np.mean(losses[-20:-10])}')\n",
    "\n",
    "        # Early stopping\n",
    "        if val_loss < best_loss:\n",
    "            best_loss = val_loss\n",
    "            epochs_no_improve = 0\n",
    "        else:\n",
    "            epochs_no_improve += 1\n",
    "            if epochs_no_improve >= patience:\n",
    "                print(f'\\n\\n---------------------------\\n---------------------------\\nEarly stopping at epoch {epoch+1}\\n---------------------------\\n---------------------------\\n')\n",
    "                break\n",
    "\n",
    "    \n",
    "    torch.save(model.state_dict(), 'transformer_model.pth')"
   ]
  },
  {
   "cell_type": "code",
   "execution_count": 17,
   "metadata": {},
   "outputs": [
    {
     "data": {
      "image/png": "[encoded data removed]",
      "text/plain": [
       "<Figure size 640x480 with 1 Axes>"
      ]
     },
     "metadata": {},
     "output_type": "display_data"
    }
   ],
   "source": [
    "def plot_loss(losses):\n",
    "    plt.plot(losses)\n",
    "    plt.title('Loss over epochs')\n",
    "    plt.xlabel('Epoch')\n",
    "    plt.ylabel('Loss')\n",
    "    plt.show()\n",
    "plot_loss(losses)"
   ]
  },
  {
   "cell_type": "markdown",
   "metadata": {},
   "source": [
    "# Model Testing"
   ]
  },
  {
   "cell_type": "code",
   "execution_count": 18,
   "metadata": {},
   "outputs": [
    {
     "ename": "RuntimeError",
     "evalue": "Error(s) in loading state_dict for ECoGTransformerEncoder:\n\tMissing key(s) in state_dict: \"transformer_encoder.layers.5.self_attn.in_proj_weight\", \"transformer_encoder.layers.5.self_attn.in_proj_bias\", \"transformer_encoder.layers.5.self_attn.out_proj.weight\", \"transformer_encoder.layers.5.self_attn.out_proj.bias\", \"transformer_encoder.layers.5.linear1.weight\", \"transformer_encoder.layers.5.linear1.bias\", \"transformer_encoder.layers.5.linear2.weight\", \"transformer_encoder.layers.5.linear2.bias\", \"transformer_encoder.layers.5.norm1.weight\", \"transformer_encoder.layers.5.norm1.bias\", \"transformer_encoder.layers.5.norm2.weight\", \"transformer_encoder.layers.5.norm2.bias\", \"transformer_encoder.layers.6.self_attn.in_proj_weight\", \"transformer_encoder.layers.6.self_attn.in_proj_bias\", \"transformer_encoder.layers.6.self_attn.out_proj.weight\", \"transformer_encoder.layers.6.self_attn.out_proj.bias\", \"transformer_encoder.layers.6.linear1.weight\", \"transformer_encoder.layers.6.linear1.bias\", \"transformer_encoder.layers.6.linear2.weight\", \"transformer_encoder.layers.6.linear2.bias\", \"transformer_encoder.layers.6.norm1.weight\", \"transformer_encoder.layers.6.norm1.bias\", \"transformer_encoder.layers.6.norm2.weight\", \"transformer_encoder.layers.6.norm2.bias\", \"transformer_encoder.layers.7.self_attn.in_proj_weight\", \"transformer_encoder.layers.7.self_attn.in_proj_bias\", \"transformer_encoder.layers.7.self_attn.out_proj.weight\", \"transformer_encoder.layers.7.self_attn.out_proj.bias\", \"transformer_encoder.layers.7.linear1.weight\", \"transformer_encoder.layers.7.linear1.bias\", \"transformer_encoder.layers.7.linear2.weight\", \"transformer_encoder.layers.7.linear2.bias\", \"transformer_encoder.layers.7.norm1.weight\", \"transformer_encoder.layers.7.norm1.bias\", \"transformer_encoder.layers.7.norm2.weight\", \"transformer_encoder.layers.7.norm2.bias\". ",
     "output_type": "error",
     "traceback": [
      "\u001b[1;31m---------------------------------------------------------------------------\u001b[0m",
      "\u001b[1;31mRuntimeError\u001b[0m                              Traceback (most recent call last)",
      "Cell \u001b[1;32mIn[18], line 2\u001b[0m\n\u001b[0;32m      1\u001b[0m \u001b[38;5;66;03m# test model\u001b[39;00m\n\u001b[1;32m----> 2\u001b[0m \u001b[43mmodel\u001b[49m\u001b[38;5;241;43m.\u001b[39;49m\u001b[43mload_state_dict\u001b[49m\u001b[43m(\u001b[49m\u001b[43mtorch\u001b[49m\u001b[38;5;241;43m.\u001b[39;49m\u001b[43mload\u001b[49m\u001b[43m(\u001b[49m\u001b[38;5;124;43m'\u001b[39;49m\u001b[38;5;124;43mtransformer_model.pth\u001b[39;49m\u001b[38;5;124;43m'\u001b[39;49m\u001b[43m)\u001b[49m\u001b[43m)\u001b[49m\n\u001b[0;32m      3\u001b[0m model\u001b[38;5;241m.\u001b[39meval()\n\u001b[0;32m      5\u001b[0m \u001b[38;5;28;01mwith\u001b[39;00m torch\u001b[38;5;241m.\u001b[39mno_grad():\n",
      "File \u001b[1;32mc:\\Users\\thewa\\miniconda3\\Lib\\site-packages\\torch\\nn\\modules\\module.py:2189\u001b[0m, in \u001b[0;36mModule.load_state_dict\u001b[1;34m(self, state_dict, strict, assign)\u001b[0m\n\u001b[0;32m   2184\u001b[0m         error_msgs\u001b[38;5;241m.\u001b[39minsert(\n\u001b[0;32m   2185\u001b[0m             \u001b[38;5;241m0\u001b[39m, \u001b[38;5;124m'\u001b[39m\u001b[38;5;124mMissing key(s) in state_dict: \u001b[39m\u001b[38;5;132;01m{}\u001b[39;00m\u001b[38;5;124m. \u001b[39m\u001b[38;5;124m'\u001b[39m\u001b[38;5;241m.\u001b[39mformat(\n\u001b[0;32m   2186\u001b[0m                 \u001b[38;5;124m'\u001b[39m\u001b[38;5;124m, \u001b[39m\u001b[38;5;124m'\u001b[39m\u001b[38;5;241m.\u001b[39mjoin(\u001b[38;5;124mf\u001b[39m\u001b[38;5;124m'\u001b[39m\u001b[38;5;124m\"\u001b[39m\u001b[38;5;132;01m{\u001b[39;00mk\u001b[38;5;132;01m}\u001b[39;00m\u001b[38;5;124m\"\u001b[39m\u001b[38;5;124m'\u001b[39m \u001b[38;5;28;01mfor\u001b[39;00m k \u001b[38;5;129;01min\u001b[39;00m missing_keys)))\n\u001b[0;32m   2188\u001b[0m \u001b[38;5;28;01mif\u001b[39;00m \u001b[38;5;28mlen\u001b[39m(error_msgs) \u001b[38;5;241m>\u001b[39m \u001b[38;5;241m0\u001b[39m:\n\u001b[1;32m-> 2189\u001b[0m     \u001b[38;5;28;01mraise\u001b[39;00m \u001b[38;5;167;01mRuntimeError\u001b[39;00m(\u001b[38;5;124m'\u001b[39m\u001b[38;5;124mError(s) in loading state_dict for \u001b[39m\u001b[38;5;132;01m{}\u001b[39;00m\u001b[38;5;124m:\u001b[39m\u001b[38;5;130;01m\\n\u001b[39;00m\u001b[38;5;130;01m\\t\u001b[39;00m\u001b[38;5;132;01m{}\u001b[39;00m\u001b[38;5;124m'\u001b[39m\u001b[38;5;241m.\u001b[39mformat(\n\u001b[0;32m   2190\u001b[0m                        \u001b[38;5;28mself\u001b[39m\u001b[38;5;241m.\u001b[39m\u001b[38;5;18m__class__\u001b[39m\u001b[38;5;241m.\u001b[39m\u001b[38;5;18m__name__\u001b[39m, \u001b[38;5;124m\"\u001b[39m\u001b[38;5;130;01m\\n\u001b[39;00m\u001b[38;5;130;01m\\t\u001b[39;00m\u001b[38;5;124m\"\u001b[39m\u001b[38;5;241m.\u001b[39mjoin(error_msgs)))\n\u001b[0;32m   2191\u001b[0m \u001b[38;5;28;01mreturn\u001b[39;00m _IncompatibleKeys(missing_keys, unexpected_keys)\n",
      "\u001b[1;31mRuntimeError\u001b[0m: Error(s) in loading state_dict for ECoGTransformerEncoder:\n\tMissing key(s) in state_dict: \"transformer_encoder.layers.5.self_attn.in_proj_weight\", \"transformer_encoder.layers.5.self_attn.in_proj_bias\", \"transformer_encoder.layers.5.self_attn.out_proj.weight\", \"transformer_encoder.layers.5.self_attn.out_proj.bias\", \"transformer_encoder.layers.5.linear1.weight\", \"transformer_encoder.layers.5.linear1.bias\", \"transformer_encoder.layers.5.linear2.weight\", \"transformer_encoder.layers.5.linear2.bias\", \"transformer_encoder.layers.5.norm1.weight\", \"transformer_encoder.layers.5.norm1.bias\", \"transformer_encoder.layers.5.norm2.weight\", \"transformer_encoder.layers.5.norm2.bias\", \"transformer_encoder.layers.6.self_attn.in_proj_weight\", \"transformer_encoder.layers.6.self_attn.in_proj_bias\", \"transformer_encoder.layers.6.self_attn.out_proj.weight\", \"transformer_encoder.layers.6.self_attn.out_proj.bias\", \"transformer_encoder.layers.6.linear1.weight\", \"transformer_encoder.layers.6.linear1.bias\", \"transformer_encoder.layers.6.linear2.weight\", \"transformer_encoder.layers.6.linear2.bias\", \"transformer_encoder.layers.6.norm1.weight\", \"transformer_encoder.layers.6.norm1.bias\", \"transformer_encoder.layers.6.norm2.weight\", \"transformer_encoder.layers.6.norm2.bias\", \"transformer_encoder.layers.7.self_attn.in_proj_weight\", \"transformer_encoder.layers.7.self_attn.in_proj_bias\", \"transformer_encoder.layers.7.self_attn.out_proj.weight\", \"transformer_encoder.layers.7.self_attn.out_proj.bias\", \"transformer_encoder.layers.7.linear1.weight\", \"transformer_encoder.layers.7.linear1.bias\", \"transformer_encoder.layers.7.linear2.weight\", \"transformer_encoder.layers.7.linear2.bias\", \"transformer_encoder.layers.7.norm1.weight\", \"transformer_encoder.layers.7.norm1.bias\", \"transformer_encoder.layers.7.norm2.weight\", \"transformer_encoder.layers.7.norm2.bias\". "
     ]
    }
   ],
   "source": [
    "# test model\n",
    "model.load_state_dict(torch.load('transformer_model.pth'))\n",
    "model.eval()\n",
    "\n",
    "with torch.no_grad():\n",
    "    y_pred = model(X_test)\n",
    "    loss = criterion(y_pred, y_test)\n",
    "    print(f'Test Loss: {loss.item()}')\n",
    "    y_test = y_test.detach().cpu().numpy()\n",
    "    y_pred = y_pred.detach().cpu().numpy()\n",
    "    # Plot the first 100 predictions\n",
    "    plt.plot(y_test[:100, 0], label='True X')\n",
    "    plt.plot(y_pred[:100, 0], label='Predicted X')\n",
    "    plt.legend()\n",
    "    plt.show()\n",
    "\n",
    "    plt.plot(y_test[:100, 1], label='True Y')\n",
    "    plt.plot(y_pred[:100, 1], label='Predicted Y')\n",
    "    plt.legend()\n",
    "    plt.show()"
   ]
  },
  {
   "cell_type": "markdown",
   "metadata": {},
   "source": [
    "## Optuna, the hyperparameter optimizer"
   ]
  },
  {
   "cell_type": "code",
   "execution_count": 22,
   "metadata": {},
   "outputs": [
    {
     "name": "stderr",
     "output_type": "stream",
     "text": [
      "[I 2024-07-23 12:34:41,322] A new study created in memory with name: no-name-06f5c844-abcc-404d-9567-db42eaa64bb5\n",
      "C:\\Users\\thewa\\AppData\\Local\\Temp\\ipykernel_19348\\1332823889.py:16: FutureWarning: suggest_loguniform has been deprecated in v3.0.0. This feature will be removed in v6.0.0. See https://github.com/optuna/optuna/releases/tag/v3.0.0. Use suggest_float(..., log=True) instead.\n",
      "  learning_rate = trial.suggest_loguniform('learning_rate', 1e-5, 1e-3)\n",
      "C:\\Users\\thewa\\AppData\\Local\\Temp\\ipykernel_19348\\1332823889.py:17: FutureWarning: suggest_loguniform has been deprecated in v3.0.0. This feature will be removed in v6.0.0. See https://github.com/optuna/optuna/releases/tag/v3.0.0. Use suggest_float(..., log=True) instead.\n",
      "  weight_decay = trial.suggest_loguniform('weight_decay', 1e-6, 1e-4)\n"
     ]
    },
    {
     "name": "stdout",
     "output_type": "stream",
     "text": [
      "Epoch 1/1000, Loss: 410.1645202636719\n",
      "Epoch 2/1000, Loss: 634.5203247070312\n",
      "Epoch 3/1000, Loss: 500.87969970703125\n",
      "Epoch 4/1000, Loss: 204.18307495117188\n",
      "Epoch 5/1000, Loss: 269.0952453613281\n",
      "Epoch 6/1000, Loss: 175.4502410888672\n",
      "Epoch 7/1000, Loss: 201.57382202148438\n",
      "Epoch 8/1000, Loss: 202.6818084716797\n",
      "Epoch 9/1000, Loss: 109.95153045654297\n",
      "Epoch 10/1000, Loss: 127.13128662109375\n",
      "Epoch 11/1000, Loss: 69.03248596191406\n",
      "Epoch 12/1000, Loss: 90.01192474365234\n",
      "Epoch 13/1000, Loss: 134.20545959472656\n",
      "Epoch 14/1000, Loss: 71.65036010742188\n",
      "Epoch 15/1000, Loss: 57.88997268676758\n",
      "Epoch 16/1000, Loss: 47.3446044921875\n",
      "Epoch 17/1000, Loss: 52.556304931640625\n",
      "Epoch 18/1000, Loss: 39.47270202636719\n",
      "Epoch 19/1000, Loss: 34.48288345336914\n"
     ]
    }
   ],
   "source": [
    "# run optuna?\n",
    "run_optuna = True\n",
    "import optuna\n",
    "import torch\n",
    "import torch.nn as nn\n",
    "\n",
    "\n",
    "\n",
    "# Define the objective function for Optuna\n",
    "def objective(trial):\n",
    "    # Hyperparameters to tune\n",
    "    model_dim = trial.suggest_categorical('model_dim', [128, 256, 512])\n",
    "    num_heads = trial.suggest_categorical('num_heads', [4, 8, 16])\n",
    "    num_layers = trial.suggest_int('num_layers', 4,8)\n",
    "    dropout_rate = trial.suggest_float('dropout_rate', 0.1, 0.5)\n",
    "    learning_rate = trial.suggest_loguniform('learning_rate', 1e-5, 1e-3)\n",
    "    weight_decay = trial.suggest_loguniform('weight_decay', 1e-6, 1e-4)\n",
    "    \n",
    "    # real data\n",
    "    input_tensor = X_train\n",
    "    target_tensor = y_train\n",
    "    dataset = TensorDataset(input_tensor, target_tensor)\n",
    "    generator = torch.Generator(device='cuda')\n",
    "    dataloader = DataLoader(dataset, batch_size=16, shuffle=True, generator=generator)\n",
    "    \n",
    "    # Model and optimizer\n",
    "    model = ECoGTransformerEncoder(input_dim=X_train.shape[-1], model_dim=model_dim, num_heads=num_heads, num_layers=num_layers, output_dim=2, dropout_rate=dropout_rate)\n",
    "    model.apply(init_weights)\n",
    "    optimizer = torch.optim.Adam(model.parameters(), lr=learning_rate, weight_decay=weight_decay)\n",
    "    criterion = ScaledMSELoss(1000)\n",
    "    # Training loop\n",
    "    print(trial.params)\n",
    "    losses = []\n",
    "    for epoch in range(100):\n",
    "        for data, target in dataloader:\n",
    "            optimizer.zero_grad()\n",
    "            with autocast():\n",
    "                output = model(data)\n",
    "                loss = criterion(output, target)\n",
    "                losses.append(loss.item())\n",
    "            scaler.scale(loss).backward()\n",
    "            torch.nn.utils.clip_grad_norm_(model.parameters(), max_norm=1.0)  # Gradient clipping\n",
    "            scaler.step(optimizer)\n",
    "            scaler.update()\n",
    "            #scheduler.step()\n",
    "        print(f'Epoch {epoch+1}/{num_epochs}, Loss: {loss.item()}')\n",
    "    general_loss = np.mean(losses[-10:])\n",
    "    return general_loss\n",
    "\n",
    "if run_optuna:\n",
    "    # Run the optimization\n",
    "    study = optuna.create_study(direction='minimize')\n",
    "    study.optimize(objective, n_trials=50)\n",
    "\n",
    "    # Best hyperparameters\n",
    "    print(study.best_params)"
   ]
  },
  {
   "cell_type": "markdown",
   "metadata": {},
   "source": [
    "best trial with output dim 1: [I 2024-07-22 11:58:14,634] Trial 15 finished with value: 753723.5625 and parameters: {'model_dim': 256, 'num_heads': 4, 'num_layers': 5, 'dropout_rate': 0.2259481444219587, 'learning_rate': 0.0009022268315380955}. Best is trial 15 with value: 753723.5625.\n",
    "\n",
    "wrong output dim, trying 2.\n",
    "best: {'model_dim': 512, 'num_heads': 8, 'num_layers': 6, 'dropout_rate': 0.48411131648232686, 'learning_rate': 0.0008203239127338236}\n",
    "\n",
    "new optimization.\n",
    "best: [I 2024-07-23 02:32:30,156] Trial 48 finished with value: 372409.4375 and parameters: {'model_dim': 128, 'num_heads': 8, 'num_layers': 4, 'dropout_rate': 0.3670812456459453, 'learning_rate': 0.0006976310761919828}. Best is trial 48 with value: 372409.4375.\n"
   ]
  }
 ],
 "metadata": {
  "kernelspec": {
   "display_name": "Python 3",
   "language": "python",
   "name": "python3"
  },
  "language_info": {
   "codemirror_mode": {
    "name": "ipython",
    "version": 3
   },
   "file_extension": ".py",
   "mimetype": "text/x-python",
   "name": "python",
   "nbconvert_exporter": "python",
   "pygments_lexer": "ipython3",
   "version": "3.11.5"
  }
 },
 "nbformat": 4,
 "nbformat_minor": 2
}
